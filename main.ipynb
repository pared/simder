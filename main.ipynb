{
 "cells": [
  {
   "cell_type": "code",
   "execution_count": 1,
   "metadata": {},
   "outputs": [
    {
     "name": "stderr",
     "output_type": "stream",
     "text": [
      "Using TensorFlow backend.\n"
     ]
    }
   ],
   "source": [
    "from keras.applications.inception_v3 import InceptionV3\n",
    "from keras.preprocessing.image import load_img, img_to_array\n",
    "from keras.applications.inception_v3 import preprocess_input, decode_predictions\n",
    "import numpy as np\n",
    "from PIL import Image\n",
    "import requests\n",
    "from io import BytesIO\n",
    "from keras.utils.data_utils import get_file\n",
    "from os.path import join\n",
    "import json\n",
    "import matplotlib.pyplot as plt\n",
    "%matplotlib inline"
   ]
  },
  {
   "cell_type": "code",
   "execution_count": 2,
   "metadata": {},
   "outputs": [],
   "source": [
    "\n",
    "def remove_top_layer(model):\n",
    "    model.layers.pop()\n",
    "    model.outputs = [model.layers[-1].output]\n",
    "    model.layers[-1].outbound_nodes = []\n",
    "    \n",
    "def feed_forward(model, img):\n",
    "    img = img_to_array(img)\n",
    "    img= np.expand_dims(img, axis=0)\n",
    "    img = preprocess_input(img)\n",
    "    return model.predict(img)\n",
    "\n",
    "def plots(ims, figsize=(12,6), rows=1, interp=False, titles=None, figtitle=None):\n",
    "    if type(ims[0]) is np.ndarray:\n",
    "        ims = np.array(ims).astype(np.uint8)\n",
    "        if (ims.shape[-1] != 3):\n",
    "            ims = ims.transpose((0,2,3,1))\n",
    "    f = plt.figure(figsize=figsize)\n",
    "    if figtitle:\n",
    "        f.suptitle(figtitle)\n",
    "    cols = len(ims)//rows if len(ims) % 2 == 0 else len(ims)//rows + 1\n",
    "    for i in range(len(ims)):\n",
    "        sp = f.add_subplot(rows, cols, i+1)\n",
    "        sp.axis('Off')\n",
    "        if titles is not None:\n",
    "            sp.set_title(titles[i], fontsize=12)\n",
    "        plt.imshow(ims[i], interpolation=None if interp else 'none')\n",
    "\n",
    "def get_prediction_label(predictions, num_preds):\n",
    "    classes = get_classes()\n",
    "    \n",
    "    result = list(zip(predictions[0], classes))\n",
    "    result = sorted(result, key= lambda elem: elem[0], reverse=True)\n",
    "    \n",
    "    return result[:num_preds]\n",
    "    \n",
    "    "
   ]
  },
  {
   "cell_type": "code",
   "execution_count": 3,
   "metadata": {},
   "outputs": [],
   "source": [
    "\n",
    "\n",
    "\n",
    "class AlikeFinder():\n",
    "    def __init__(self):\n",
    "        self.prepare_model()\n",
    "        \n",
    "    def prepare_model(self):\n",
    "        model = InceptionV3(weights='imagenet')\n",
    "        remove_top_layer(model)\n",
    "        self.model = model\n",
    "        \n",
    "    def get_features_for_path(self, img_path):\n",
    "        image = load_img(img_path)\n",
    "        return feed_forward(self.model, image)\n",
    "    \n",
    "    def get_features_for_image(self, image):\n",
    "        return feed_forward(self.model, image)\n",
    "        \n",
    "original_model = InceptionV3(weights='imagenet')\n",
    "alike_finder = AlikeFinder()        "
   ]
  },
  {
   "cell_type": "code",
   "execution_count": 6,
   "metadata": {},
   "outputs": [
    {
     "ename": "SyntaxError",
     "evalue": "unexpected EOF while parsing (<ipython-input-6-2cb28972ea93>, line 9)",
     "output_type": "error",
     "traceback": [
      "\u001b[0;36m  File \u001b[0;32m\"<ipython-input-6-2cb28972ea93>\"\u001b[0;36m, line \u001b[0;32m9\u001b[0m\n\u001b[0;31m    plots([img], titles = [str(elem[1] + \" \" + str(elem[2]) for elem in original_predictions[0])]\u001b[0m\n\u001b[0m                                                                                                 ^\u001b[0m\n\u001b[0;31mSyntaxError\u001b[0m\u001b[0;31m:\u001b[0m unexpected EOF while parsing\n"
     ]
    }
   ],
   "source": [
    "image_url = 'https://www2.deloitte.com/content/dam/Deloitte/uk/Images/promo_images/Campaign/sport/uk-deloitte-sbg-football-us-fans-promo.jpg'\n",
    "response = requests.get(image_url)\n",
    "img = Image.open(BytesIO(response.content))\n",
    "\n",
    "\n",
    "orig_result = feed_forward(original_model, img)\n",
    "original_predictions = decode_predictions(orig_result)\n",
    "\n",
    "plots([img], titles = [str(elem[1] + \" \" + str(elem[2]) for elem in original_predictions[0])])\n",
    "\n"
   ]
  }
 ],
 "metadata": {
  "kernelspec": {
   "display_name": "tensorflow",
   "language": "python",
   "name": "tensorflow"
  },
  "language_info": {
   "codemirror_mode": {
    "name": "ipython",
    "version": 3
   },
   "file_extension": ".py",
   "mimetype": "text/x-python",
   "name": "python",
   "nbconvert_exporter": "python",
   "pygments_lexer": "ipython3",
   "version": "3.5.2"
  }
 },
 "nbformat": 4,
 "nbformat_minor": 2
}
