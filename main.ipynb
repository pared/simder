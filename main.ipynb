{
 "cells": [
  {
   "cell_type": "code",
   "execution_count": null,
   "metadata": {},
   "outputs": [],
   "source": [
    "from keras.applications.inception_v3 import InceptionV3\n",
    "from keras.preprocessing.image import load_img\n",
    "import numpy as np"
   ]
  },
  {
   "cell_type": "code",
   "execution_count": null,
   "metadata": {},
   "outputs": [],
   "source": [
    "\n",
    "\n",
    "def remove_top_layer(model):\n",
    "    model.layers.pop()\n",
    "    model.outputs = [model.layers[-1].output]\n",
    "    model.layers[-1].outbound_nodes = []\n",
    "\n",
    "class AlikeFinder():\n",
    "    def __init__(self):\n",
    "        self.prepare_model()\n",
    "        \n",
    "    def prepare_model(self):\n",
    "        model = InceptionV3(weights='imagenet')\n",
    "        remove_top_layer(model)\n",
    "        \n",
    "        self.model = model\n",
    "        \n",
    "original_model = InceptionV3(weights='imagenet')\n",
    "alike_finder = AlikeFinder()        "
   ]
  },
  {
   "cell_type": "code",
   "execution_count": null,
   "metadata": {},
   "outputs": [],
   "source": [
    "test_image_path = '/home/prd/Development/projects/tensorflow/1.Dogs-Cats/data/playground/train/dog/dog.107.jpg' \n",
    "image = load_img(test_image_path)\n",
    "image = np.array(image).astype(np.uint8)\n",
    "image = np.reshape(image, (1, image.shape[0], image.shape[1], image.shape[2]))\n",
    "result = alike_finder.model.predict(image)\n",
    "orig_result = original_model.predict(image)"
   ]
  },
  {
   "cell_type": "code",
   "execution_count": null,
   "metadata": {},
   "outputs": [],
   "source": [
    "print(result.shape)\n"
   ]
  }
 ],
 "metadata": {
  "kernelspec": {
   "display_name": "tensorflow",
   "language": "python",
   "name": "tensorflow"
  },
  "language_info": {
   "codemirror_mode": {
    "name": "ipython",
    "version": 3
   },
   "file_extension": ".py",
   "mimetype": "text/x-python",
   "name": "python",
   "nbconvert_exporter": "python",
   "pygments_lexer": "ipython3",
   "version": "3.5.2"
  }
 },
 "nbformat": 4,
 "nbformat_minor": 2
}
